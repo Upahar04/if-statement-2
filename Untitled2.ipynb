{
 "cells": [
  {
   "cell_type": "code",
   "execution_count": 3,
   "id": "217a4546-4956-4952-a96d-3d9245721796",
   "metadata": {},
   "outputs": [
    {
     "name": "stdin",
     "output_type": "stream",
     "text": [
      "please enter name  ephraim\n"
     ]
    },
    {
     "name": "stdout",
     "output_type": "stream",
     "text": [
      "Good morning ephraim\n"
     ]
    }
   ],
   "source": [
    "Name = input(\"please enter name \")\n",
    "if Name == \"Bond \":\n",
    "    print(\"welcome on board 007\")\n",
    "else:\n",
    "    print(f\"Good morning {Name}\")"
   ]
  },
  {
   "cell_type": "code",
   "execution_count": null,
   "id": "9c80da7a-c0d5-499d-a03d-732b5aab73c6",
   "metadata": {},
   "outputs": [],
   "source": []
  },
  {
   "cell_type": "code",
   "execution_count": null,
   "id": "ae036e80-a966-4a78-a38d-e0f873034028",
   "metadata": {},
   "outputs": [],
   "source": []
  },
  {
   "cell_type": "code",
   "execution_count": null,
   "id": "46c04683-ea23-4776-ac39-826eb354158c",
   "metadata": {},
   "outputs": [],
   "source": []
  }
 ],
 "metadata": {
  "kernelspec": {
   "display_name": "Python 3 (ipykernel)",
   "language": "python",
   "name": "python3"
  },
  "language_info": {
   "codemirror_mode": {
    "name": "ipython",
    "version": 3
   },
   "file_extension": ".py",
   "mimetype": "text/x-python",
   "name": "python",
   "nbconvert_exporter": "python",
   "pygments_lexer": "ipython3",
   "version": "3.12.4"
  }
 },
 "nbformat": 4,
 "nbformat_minor": 5
}
